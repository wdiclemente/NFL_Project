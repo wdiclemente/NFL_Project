{
 "cells": [
  {
   "cell_type": "markdown",
   "metadata": {},
   "source": [
    "# NFL Project\n",
    "This is a (currently incomplete) hobby project for messing around with NFL statistics.\n",
    "\n",
    "My original intent for this project was to find a way to separate the performance of a wide receiver (WR) from his quarterback (QB) in order to settle frequent debates with firends.  Since the two positions are so closely linked, it can be difficult to determine how good a WR is relative to his peers if he plays with an elite QB, and vice versa.  In order to answer this question, I create a metric to evaluate a WR's and QB's performance relative to the rest of the NFL."
   ]
  },
  {
   "cell_type": "markdown",
   "metadata": {},
   "source": [
    "## Running the code\n",
    "The code is exucuted by running the `calculate_nfl_averages.py` script in the root directory, and it reads inputs from `config/config.cfg`\n",
    "\n",
    "### Configuration\n",
    "The code reads in settings from a configuration file located in `config/config.cfg`:\n",
    "1. Paths: specify the paths to the home directory of the project and the directory where the data is located\n",
    "2. Config: a list of players to be plotted, specified via their ID that can be looked up in `data/playerIDs.cfg`\n",
    "3. Metric: here the weights of various stats can be set for calculating the metric\n",
    "\n",
    "### Outputs\n",
    "Below is a sample console output from running the code:\n",
    "```\n",
    "$ python3 calculate_nfl_averages.py \n",
    "Processing play #25000\n",
    "Processing play #50000\n",
    "Processing play #75000\n",
    "Processing play #100000\n",
    "Processing play #125000\n",
    "Processing play #150000\n",
    "Processing play #175000\n",
    "Processing play #200000\n",
    "Processing play #225000\n",
    "Processing play #250000\n",
    "Processing play #275000\n",
    "Processing play #300000\n",
    "Processing play #325000\n",
    "Finished reading 342276 plays in 9.52 seconds.\n",
    "Calculating stats for player #1000\n",
    "Calculating stats for player #2000\n",
    "Finished calculating stats for 2417 players in 4.48 seconds.\n",
    "Finished calculating league averages in 0.13 seconds.\n",
    "Finished calculating metric for all players in 0.61 sec.\n",
    "Making plots for player 2506106 -- Larry Fitzgerald (WR).\n",
    "Done in 13.36 sec.\n",
    "Making plots for player 2503532 -- Hines Ward (WR).\n",
    "Done in 12.40 sec.\n",
    "Making plots for player 2505587 -- Anquan Boldin (WR).\n",
    "Done in 12.72 sec.\n",
    "```"
   ]
  },
  {
   "cell_type": "markdown",
   "metadata": {},
   "source": [
    "## Walkthrough of the code\n",
    "The following subsections will detail the inner workings of the framework as well as a demo using the player Larry Fitzgerald."
   ]
  },
  {
   "cell_type": "code",
   "execution_count": 1,
   "metadata": {},
   "outputs": [],
   "source": [
    "# Get all the imports we will need to get this running\n",
    "\n",
    "# set the path for our local modules\n",
    "import os\n",
    "import sys\n",
    "module_path = os.path.abspath(os.path.join('..'))\n",
    "if module_path not in sys.path:\n",
    "    sys.path.append(module_path)\n",
    "\n",
    "# local includes\n",
    "from python.classes import *\n",
    "from python.stat_minMaxAvg import *\n",
    "from python.utils import *\n",
    "# python includes\n",
    "import numpy as np\n",
    "from matplotlib import pyplot as plt"
   ]
  },
  {
   "cell_type": "markdown",
   "metadata": {},
   "source": [
    "### Reading in the data\n",
    "The input data to the code is a .csv file containing every passing play run in the NFL from 2004-2018. The .csv contains a variety of information about the play, including what game it was, which QB and WR were involved, and what the result of the pass was.  A sample line is below:"
   ]
  },
  {
   "cell_type": "code",
   "execution_count": 2,
   "metadata": {},
   "outputs": [
    {
     "name": "stdout",
     "output_type": "stream",
     "text": [
      "3800;2510;2004;Week 1;2505076;Josh McCown;QB;2506106;Larry Fitzgerald;WR;0;complete;1;1;NULL;37;0;0;0;0;0;0;1;37;0;0\n",
      "\n"
     ]
    }
   ],
   "source": [
    "with open('data/lfitz.csv') as input_data:\n",
    "    line = input_data.readline()\n",
    "    print(line)"
   ]
  },
  {
   "cell_type": "markdown",
   "metadata": {},
   "source": [
    "The input data is read line-by-line and a `Play` object is created for each line.  The `Play` object simply stores all the information in the play, and each is manually assigned a `play_id` for identification purposes.  For readability, the `Play` class contains a dictionary lookup table so that stats can be requested in using a string rather than an index.\n",
    "\n",
    "Here we create a `Play` from the line printed above."
   ]
  },
  {
   "cell_type": "code",
   "execution_count": 3,
   "metadata": {},
   "outputs": [
    {
     "name": "stdout",
     "output_type": "stream",
     "text": [
      "example_play data:\n",
      "[0, 3800, 2510, 2004, 'Week 1', 2505076, 'Josh McCown', 'QB', 2506106, 'Larry Fitzgerald', 'WR', 0, 'complete', 1, 1, 'NULL', 37, 0, 0, 0, 0, 0, 0, 1, 37, 0, 0]\n",
      "\n",
      "Retrieve a stat via example_play.get_stat('pass_total_yards'):\n",
      "37\n"
     ]
    }
   ],
   "source": [
    "example_play = Play(0,line)\n",
    "print('example_play data:\\n{}\\n'.format(example_play.to_string()))\n",
    "print(\"Retrieve a stat via example_play.get_stat('pass_total_yards'):\")\n",
    "print(example_play.get_stat('pass_total_yards'))"
   ]
  },
  {
   "cell_type": "markdown",
   "metadata": {},
   "source": [
    "### Calculating player stats\n",
    "Each `Play` has two players accociated with it, the 'passer' and the 'receiver'. A `Player` object is created (if it does not already exist) for the passer and receiver, and the `Play` is assigned to both `Player` objects.  When the `Play` is added to the `Player`, it is automatically sorted by year.\n",
    "\n",
    "The `Player` object calculates the player's combined statistics from the associated `Play` objects using the `calculate()` function. "
   ]
  },
  {
   "cell_type": "code",
   "execution_count": 10,
   "metadata": {},
   "outputs": [
    {
     "name": "stdout",
     "output_type": "stream",
     "text": [
      "Total receptions after processing 500 plays: 277\n",
      "Total receptions after processing 1000 plays: 523\n",
      "Total receptions after processing 1500 plays: 753\n",
      "Total receptions after processing 2000 plays: 1018\n"
     ]
    }
   ],
   "source": [
    "plays   = []\n",
    "players = {}\n",
    "\n",
    "with open('data/lfitz.csv') as input_data:\n",
    "    line = input_data.readline()\n",
    "    line_count = 0\n",
    "    while line:\n",
    "        line_count += 1\n",
    "        play = Play(line_count,line)\n",
    "        plays.append(play)\n",
    "        # add play to relevant players, create if necessary\n",
    "        # only if NOT nullified by penalty and during regular season!\n",
    "        if (not play.is_nullified()) and (play.is_regular_season()):\n",
    "            pass_id = play.get_stat('passer_id')\n",
    "            if not pass_id in players:\n",
    "                passer = Player()\n",
    "                passer.set_player(pass_id, \n",
    "                                  play.get_stat('passer_name'), \n",
    "                                  play.get_stat('passer_pos'))\n",
    "                passer.add_stat(play)\n",
    "                players[pass_id] = passer\n",
    "            else:\n",
    "                players[pass_id].add_stat(play)\n",
    "\n",
    "            rec_id = play.get_stat('receiver_id')\n",
    "            if not rec_id in players:\n",
    "                receiver = Player()\n",
    "                receiver.set_player(rec_id, \n",
    "                                    play.get_stat('receiver_name'), \n",
    "                                    play.get_stat('receiver_pos'))\n",
    "                receiver.add_stat(play)\n",
    "                players[rec_id] = receiver\n",
    "            else:\n",
    "                players[rec_id].add_stat(play)\n",
    "            \n",
    "        if line_count % 500 == 0:\n",
    "            players[2506106].calculate()\n",
    "            catches = sum(players[2506106].get_calculated_stat('rec_reception'))\n",
    "            print('Total receptions after processing {} plays: {}'.format(line_count,catches))\n",
    "\n",
    "        # next line\n",
    "        line = input_data.readline()\n",
    "   \n",
    "# calculate stats for all players\n",
    "for p_id in players:\n",
    "    players[p_id].calculate()"
   ]
  },
  {
   "cell_type": "markdown",
   "metadata": {},
   "source": [
    "### Calculating league averages\n",
    "At this point, the code does a lot of work to calculate the NFL-wide averages for each stat.  We will not go into detail here since it is a bit complicated, but essentially a `LeagueAverages` object is created that represents the entire NFL.  Each `Player` is passed to the `LeagueAverages` object, which makes use of the `StatMinMaxAvg` class to calculate the minimum, maximum, and average values of each statistic on a year-by-year basis.  The `StatMinMaxAvg` class automatically updates the calculations each time a `Player` is added.\n",
    "\n",
    "A minimum number of passes or receptions can be specified such that a player's season stats are only included in the `LeagueAverages` calculation if that minimum is met.\n",
    "\n",
    "Below is an example of a \"mini-league\" created from the plays stored earlier.  (Reminder that this only contains plays involving Larry Fitzgerald, and thus will not accurately reflect the real NFL totals.) "
   ]
  },
  {
   "cell_type": "code",
   "execution_count": 17,
   "metadata": {},
   "outputs": [
    {
     "name": "stdout",
     "output_type": "stream",
     "text": [
      "Example league-wide statistics for the 2004 season:\n",
      "\n",
      "Tracking stat Pass completions -- Total: 56 | Min: 10 | Max: 46 | Avg: 28.0 -- from 2 entries\n",
      "Tracking stat Pass total yards -- Total: 768 | Min: 129 | Max: 639 | Avg: 384.0 -- from 2 entries\n"
     ]
    }
   ],
   "source": [
    "min_rec = 50\n",
    "min_pass = 10\n",
    "\n",
    "test_league = LeagueAverages(range(2004,2019),min_rec,min_pass)\n",
    "for p_id in players:\n",
    "    test_league.add_player(players[p_id])\n",
    "    \n",
    "print('Example league-wide statistics for the 2004 season:\\n')\n",
    "print(test_league.get_calculated_stat('pass_complete')[0].to_string())\n",
    "print(test_league.get_calculated_stat('pass_total_yards')[0].to_string())"
   ]
  },
  {
   "cell_type": "markdown",
   "metadata": {},
   "source": [
    "Originally, the framework was going to be broken down into two steps, with the first one calculating all the league averages and writing them to a file to be read in by the second step.  However, since reading and processing the full data set takes under 30 seconds, it is not necessary to do so."
   ]
  },
  {
   "cell_type": "code",
   "execution_count": null,
   "metadata": {},
   "outputs": [],
   "source": []
  }
 ],
 "metadata": {
  "kernelspec": {
   "display_name": "Python 3",
   "language": "python",
   "name": "python3"
  },
  "language_info": {
   "codemirror_mode": {
    "name": "ipython",
    "version": 3
   },
   "file_extension": ".py",
   "mimetype": "text/x-python",
   "name": "python",
   "nbconvert_exporter": "python",
   "pygments_lexer": "ipython3",
   "version": "3.6.8"
  }
 },
 "nbformat": 4,
 "nbformat_minor": 2
}
