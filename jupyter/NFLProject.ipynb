{
 "cells": [
  {
   "cell_type": "markdown",
   "metadata": {},
   "source": [
    "# NFL Project\n",
    "This is a (currently incomplete) hobby project for messing around with NFL statistics.\n",
    "\n",
    "My original intent for this project was to find a way to separate the performance of a wide receiver (WR) from his quarterback (QB) in order to settle frequent debates with firends.  Since the two positions are so closely linked, it can be difficult to determine how good a WR is relative to his peers if he plays with an elite QB, and vice versa.  In order to answer this question, I create a metric to evaluate a WR's and QB's performance relative to the rest of the NFL."
   ]
  },
  {
   "cell_type": "markdown",
   "metadata": {},
   "source": [
    "## Configuration\n",
    "The code reads in settings from a configuration file located in `config/config.cfg`:\n",
    "1. Paths: specify the paths to the home directory of the project and the directory where the data is located\n",
    "2. Config: a list of players to be plotted, specified via their ID that can be looked up in `data/playerIDs.cfg`\n",
    "3. Metric: here the weights of various stats can be set for calculating the metric"
   ]
  },
  {
   "cell_type": "markdown",
   "metadata": {},
   "source": [
    "## Running the code\n",
    "The code is exucuted by running the `calculate_nfl_averages.py` script in the root directory, and it reads inputs from `config/config.cfg`\n",
    "\n",
    "Below is the console output from running the code:\n",
    "```\n",
    "$ python3 calculate_nfl_averages.py \n",
    "Processing play #25000\n",
    "Processing play #50000\n",
    "Processing play #75000\n",
    "Processing play #100000\n",
    "Processing play #125000\n",
    "Processing play #150000\n",
    "Processing play #175000\n",
    "Processing play #200000\n",
    "Processing play #225000\n",
    "Processing play #250000\n",
    "Processing play #275000\n",
    "Processing play #300000\n",
    "Processing play #325000\n",
    "Finished reading 342276 plays in 9.52 seconds.\n",
    "Calculating stats for player #1000\n",
    "Calculating stats for player #2000\n",
    "Finished calculating stats for 2417 players in 4.48 seconds.\n",
    "Finished calculating league averages in 0.13 seconds.\n",
    "Finished calculating metric for all players in 0.61 sec.\n",
    "Making plots for player 2506106 -- Larry Fitzgerald (WR).\n",
    "Done in 13.36 sec.\n",
    "Making plots for player 2503532 -- Hines Ward (WR).\n",
    "Done in 12.40 sec.\n",
    "Making plots for player 2505587 -- Anquan Boldin (WR).\n",
    "Done in 12.72 sec.\n",
    "```"
   ]
  },
  {
   "cell_type": "code",
   "execution_count": null,
   "metadata": {},
   "outputs": [],
   "source": []
  }
 ],
 "metadata": {
  "kernelspec": {
   "display_name": "Python 3",
   "language": "python",
   "name": "python3"
  },
  "language_info": {
   "codemirror_mode": {
    "name": "ipython",
    "version": 3
   },
   "file_extension": ".py",
   "mimetype": "text/x-python",
   "name": "python",
   "nbconvert_exporter": "python",
   "pygments_lexer": "ipython3",
   "version": "3.6.8"
  }
 },
 "nbformat": 4,
 "nbformat_minor": 2
}
